{
 "cells": [
  {
   "cell_type": "code",
   "execution_count": 11,
   "metadata": {},
   "outputs": [
    {
     "name": "stdout",
     "output_type": "stream",
     "text": [
      "      id          airline       date  location  rating     cabin  value  \\\n",
      "0  10001  Delta Air Lines  21-Jun-14  Thailand       7   Economy      4   \n",
      "1  10002  Delta Air Lines  19-Jun-14       USA       0   Economy      2   \n",
      "2  10003  Delta Air Lines  18-Jun-14       USA       0   Economy      1   \n",
      "3  10004  Delta Air Lines  17-Jun-14       USA       9  Business      4   \n",
      "4  10005  Delta Air Lines  17-Jun-14   Ecuador       7   Economy      3   \n",
      "\n",
      "  recommended                                             review  \n",
      "0         YES  Flew Mar 30 NRT to BKK. All flights were great...  \n",
      "1          NO  Flight 2463 leaving West Palm Beach (PBI) at 2...  \n",
      "2          NO  Delta Website froze 4 times trying to set up f...  \n",
      "3         YES  I just returned from a round-trip First/Busine...  \n",
      "4         YES  Round-trip flight from Quito Ecuador to Birmin...  \n"
     ]
    }
   ],
   "source": [
    "# leer un archivo de airlines.csv\n",
    "import pandas\n",
    "df = pandas.read_csv('airlines.csv')\n",
    "print(df[:5])"
   ]
  },
  {
   "cell_type": "code",
   "execution_count": 12,
   "metadata": {},
   "outputs": [],
   "source": [
    "df.to_csv('airlines_out.csv')"
   ]
  }
 ],
 "metadata": {
  "kernelspec": {
   "display_name": "Python 3",
   "language": "python",
   "name": "python3"
  },
  "language_info": {
   "codemirror_mode": {
    "name": "ipython",
    "version": 3
   },
   "file_extension": ".py",
   "mimetype": "text/x-python",
   "name": "python",
   "nbconvert_exporter": "python",
   "pygments_lexer": "ipython3",
   "version": "3.6.5"
  }
 },
 "nbformat": 4,
 "nbformat_minor": 2
}
