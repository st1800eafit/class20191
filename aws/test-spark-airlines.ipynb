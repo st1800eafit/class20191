{
 "cells": [
  {
   "cell_type": "code",
   "execution_count": 1,
   "metadata": {},
   "outputs": [],
   "source": [
    "from pyspark import SparkContext"
   ]
  },
  {
   "cell_type": "code",
   "execution_count": 2,
   "metadata": {},
   "outputs": [],
   "source": [
    "from pyspark.sql import SparkSession\n",
    "spark = SparkSession.builder.appName('test-spark-airlines').getOrCreate()"
   ]
  },
  {
   "cell_type": "code",
   "execution_count": 5,
   "metadata": {},
   "outputs": [
    {
     "name": "stdout",
     "output_type": "stream",
     "text": [
      "+--------------------+--------------------+--------------------+--------------------+--------------------+\n",
      "|          identifier|               title|         description|             subject|             creator|\n",
      "+--------------------+--------------------+--------------------+--------------------+--------------------+\n",
      "|http://arxiv.org/...|Smooth R\\'enyi En...|  We prove that t...|Quantum Physics ;...|Schoenmakers, Ber...|\n",
      "|http://arxiv.org/...|Analyzing Design ...|  In the field of...|Computer Science ...|Brust, Matthias R...|\n",
      "|http://arxiv.org/...|Colour image segm...|  We propose a ne...|Computer Science ...|Kay, David A ; To...|\n",
      "|http://arxiv.org/...|Unequal Error Pro...|  An information ...|Computer Science ...|Borade, Shashi ; ...|\n",
      "|http://arxiv.org/...|On the hitting ti...|  In this paper w...|Quantum Physics ;...|Magniez, Frederic...|\n",
      "|http://arxiv.org/...|Coding Theory and...|  This chapter in...|Mathematics - Com...|   Huber, Michael ; |\n",
      "|http://arxiv.org/...|Generating Random...|  Random graph ge...|Computer Science ...|Bayati, Mohsen ; ...|\n",
      "|http://arxiv.org/...|Variations on a t...|  Schalkwijk and ...|Computer Science ...|Gallager, Robert ...|\n",
      "|http://arxiv.org/...|Rotation Distance...|  Rotation distan...|Computer Science ...|Cleary, Sean ; Jo...|\n",
      "|http://arxiv.org/...|A Linear-Time App...|  Rotation distan...|Computer Science ...|Cleary, Sean ; Jo...|\n",
      "+--------------------+--------------------+--------------------+--------------------+--------------------+\n",
      "only showing top 10 rows\n",
      "\n"
     ]
    }
   ],
   "source": [
    "df=spark.read.csv(\"papers-dc.csv\", inferSchema=True, header=True)\n",
    "df.show(10)"
   ]
  },
  {
   "cell_type": "code",
   "execution_count": 6,
   "metadata": {},
   "outputs": [
    {
     "name": "stdout",
     "output_type": "stream",
     "text": [
      "+--------------------+--------------------+--------------------+--------------------+--------------------+\n",
      "|          identifier|               title|         description|             subject|             creator|\n",
      "+--------------------+--------------------+--------------------+--------------------+--------------------+\n",
      "|http://arxiv.org/...|Smooth R\\'enyi En...|  We prove that t...|Quantum Physics ;...|Schoenmakers, Ber...|\n",
      "|http://arxiv.org/...|Analyzing Design ...|  In the field of...|Computer Science ...|Brust, Matthias R...|\n",
      "|http://arxiv.org/...|Colour image segm...|  We propose a ne...|Computer Science ...|Kay, David A ; To...|\n",
      "|http://arxiv.org/...|Unequal Error Pro...|  An information ...|Computer Science ...|Borade, Shashi ; ...|\n",
      "|http://arxiv.org/...|On the hitting ti...|  In this paper w...|Quantum Physics ;...|Magniez, Frederic...|\n",
      "|http://arxiv.org/...|Coding Theory and...|  This chapter in...|Mathematics - Com...|   Huber, Michael ; |\n",
      "|http://arxiv.org/...|Generating Random...|  Random graph ge...|Computer Science ...|Bayati, Mohsen ; ...|\n",
      "|http://arxiv.org/...|Variations on a t...|  Schalkwijk and ...|Computer Science ...|Gallager, Robert ...|\n",
      "|http://arxiv.org/...|Rotation Distance...|  Rotation distan...|Computer Science ...|Cleary, Sean ; Jo...|\n",
      "|http://arxiv.org/...|A Linear-Time App...|  Rotation distan...|Computer Science ...|Cleary, Sean ; Jo...|\n",
      "|http://arxiv.org/...|The quantum query...|  We study the qu...|Quantum Physics ;...|Ambainis, Andris ...|\n",
      "|http://arxiv.org/...|On uncertainty pr...|  The aim of this...|Mathematics - Cla...|Ghobber, Saifalla...|\n",
      "|http://arxiv.org/...|Error-and-Erasure...|  Inner and outer...|Computer Science ...|Nakiboglu, Baris ...|\n",
      "|http://arxiv.org/...|Joint-sparse reco...|  The joint-spars...|Computer Science ...|Berg, Ewout van d...|\n",
      "|http://arxiv.org/...|Inter Genre Simil...|  Music genre cla...|Computer Science ...|Bagci, Ulas ; Erz...|\n",
      "|http://arxiv.org/...|       P != NP Proof|  This paper demo...|Computer Science ...|Barbosa, André Lu...|\n",
      "|http://arxiv.org/...|Universally Compo...|  The Universal C...|Quantum Physics ;...| Unruh, Dominique ; |\n",
      "|http://arxiv.org/...|On the stability ...|  We consider fiv...|Computer Science ...|Norros, Ilkka ; R...|\n",
      "|http://arxiv.org/...|MAC Layer Hurdles...|  The last few de...|Computer Science ...|Ullah, Sana ; Kha...|\n",
      "|http://arxiv.org/...|On the Developmen...|  Current advance...|Computer Science ...|Ullah, Sana ; Kha...|\n",
      "+--------------------+--------------------+--------------------+--------------------+--------------------+\n",
      "only showing top 20 rows\n",
      "\n"
     ]
    }
   ],
   "source": [
    "df.createOrReplaceTempView(\"train_db\")\n",
    "sqlDF = spark.sql(\"SELECT * FROM train_db\")\n",
    "sqlDF.show()"
   ]
  }
 ],
 "metadata": {
  "kernelspec": {
   "display_name": "Python 3",
   "language": "python",
   "name": "python3"
  },
  "language_info": {
   "codemirror_mode": {
    "name": "ipython",
    "version": 3
   },
   "file_extension": ".py",
   "mimetype": "text/x-python",
   "name": "python",
   "nbconvert_exporter": "python",
   "pygments_lexer": "ipython3",
   "version": "3.6.5"
  }
 },
 "nbformat": 4,
 "nbformat_minor": 2
}
