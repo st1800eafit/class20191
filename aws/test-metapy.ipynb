{
 "cells": [
  {
   "cell_type": "code",
   "execution_count": 1,
   "metadata": {},
   "outputs": [
    {
     "name": "stdout",
     "output_type": "stream",
     "text": [
      "Requirement already satisfied: metapy in /anaconda3/lib/python3.6/site-packages (0.2.13)\r\n"
     ]
    }
   ],
   "source": [
    "#ref: https://github.com/meta-toolkit/metapy\n",
    "#Edwin Montoya, emontoya@eafit.edu.co\n",
    "!pip install metapy"
   ]
  },
  {
   "cell_type": "code",
   "execution_count": 2,
   "metadata": {},
   "outputs": [],
   "source": [
    "import metapy\n",
    "metapy.__version__\n",
    "metapy.log_to_stderr()"
   ]
  },
  {
   "cell_type": "code",
   "execution_count": 3,
   "metadata": {},
   "outputs": [],
   "source": [
    "doc = metapy.index.Document()\n",
    "doc.content(\"Universidad eafit, MCDA st1800 almacenamiento y Recuperacion de informacion\")"
   ]
  },
  {
   "cell_type": "code",
   "execution_count": 9,
   "metadata": {},
   "outputs": [
    {
     "data": {
      "text/plain": [
       "['<s>',\n",
       " 'Universidad',\n",
       " 'eafit',\n",
       " ',',\n",
       " 'MCDA',\n",
       " 'st1800',\n",
       " 'almacenamiento',\n",
       " 'y',\n",
       " 'Recuperacion',\n",
       " 'de',\n",
       " 'informacion',\n",
       " '</s>']"
      ]
     },
     "execution_count": 9,
     "metadata": {},
     "output_type": "execute_result"
    }
   ],
   "source": [
    "tokens = metapy.analyzers.ICUTokenizer()\n",
    "tokens.set_content(doc.content())\n",
    "[t for t in tokens]"
   ]
  },
  {
   "cell_type": "code",
   "execution_count": null,
   "metadata": {},
   "outputs": [],
   "source": []
  }
 ],
 "metadata": {
  "kernelspec": {
   "display_name": "Python 3",
   "language": "python",
   "name": "python3"
  },
  "language_info": {
   "codemirror_mode": {
    "name": "ipython",
    "version": 3
   },
   "file_extension": ".py",
   "mimetype": "text/x-python",
   "name": "python",
   "nbconvert_exporter": "python",
   "pygments_lexer": "ipython3",
   "version": "3.6.5"
  }
 },
 "nbformat": 4,
 "nbformat_minor": 2
}
